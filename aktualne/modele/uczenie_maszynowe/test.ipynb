{
 "cells": [
  {
   "cell_type": "code",
   "execution_count": null,
   "metadata": {},
   "outputs": [],
   "source": [
    "model_data_test = pd.read_csv(\"../przygotowanie_danych/model_data_test.csv\")\n",
    "model_data_test.index = pd.RangeIndex(start=3487, stop=3517, step=1)\n",
    "\n",
    "X_test = model_data_test[[\"temperatura\", \"suma opadów\", \"wilgotność\", \"prędkość wiatru\", \"zachmurzenine\", \"day_number_in_year\"]]\n",
    "y_test = model_data_test['PM2.5']\n",
    "model_data_test"
   ]
  },
  {
   "cell_type": "code",
   "execution_count": 1,
   "metadata": {},
   "outputs": [
    {
     "ename": "NameError",
     "evalue": "name 'X_train' is not defined",
     "output_type": "error",
     "traceback": [
      "\u001b[1;31m---------------------------------------------------------------------------\u001b[0m",
      "\u001b[1;31mNameError\u001b[0m                                 Traceback (most recent call last)",
      "\u001b[1;32mc:\\Users\\48516\\Desktop\\inzynierka\\aktualne\\modele\\uczenie_maszynowe\\test.ipynb Cell 2\u001b[0m line \u001b[0;36m1\n\u001b[0;32m      <a href='vscode-notebook-cell:/c%3A/Users/48516/Desktop/inzynierka/aktualne/modele/uczenie_maszynowe/test.ipynb#W0sZmlsZQ%3D%3D?line=6'>7</a>\u001b[0m {\u001b[39m'\u001b[39m\u001b[39mn_units1\u001b[39m\u001b[39m'\u001b[39m: \u001b[39m100\u001b[39m, \u001b[39m'\u001b[39m\u001b[39mn_units2\u001b[39m\u001b[39m'\u001b[39m: \u001b[39m29\u001b[39m, \u001b[39m'\u001b[39m\u001b[39mactivation\u001b[39m\u001b[39m'\u001b[39m: \u001b[39m'\u001b[39m\u001b[39midentity\u001b[39m\u001b[39m'\u001b[39m, \u001b[39m'\u001b[39m\u001b[39malpha\u001b[39m\u001b[39m'\u001b[39m: \u001b[39m0.043488008176195955\u001b[39m}\n\u001b[0;32m     <a href='vscode-notebook-cell:/c%3A/Users/48516/Desktop/inzynierka/aktualne/modele/uczenie_maszynowe/test.ipynb#W0sZmlsZQ%3D%3D?line=10'>11</a>\u001b[0m model \u001b[39m=\u001b[39m MLPRegressor(max_iter\u001b[39m=\u001b[39m\u001b[39m10000\u001b[39m,hidden_layer_sizes\u001b[39m=\u001b[39m[\u001b[39m100\u001b[39m,\u001b[39m29\u001b[39m],activation\u001b[39m=\u001b[39m\u001b[39m'\u001b[39m\u001b[39midentity\u001b[39m\u001b[39m'\u001b[39m,alpha\u001b[39m=\u001b[39m \u001b[39m0.043488008176195955\u001b[39m,random_state\u001b[39m=\u001b[39m\u001b[39m42\u001b[39m)\n\u001b[1;32m---> <a href='vscode-notebook-cell:/c%3A/Users/48516/Desktop/inzynierka/aktualne/modele/uczenie_maszynowe/test.ipynb#W0sZmlsZQ%3D%3D?line=11'>12</a>\u001b[0m model\u001b[39m.\u001b[39mfit(X_train, y_train)\n\u001b[0;32m     <a href='vscode-notebook-cell:/c%3A/Users/48516/Desktop/inzynierka/aktualne/modele/uczenie_maszynowe/test.ipynb#W0sZmlsZQ%3D%3D?line=12'>13</a>\u001b[0m y_pred \u001b[39m=\u001b[39m model\u001b[39m.\u001b[39mpredict(X_test)\n\u001b[0;32m     <a href='vscode-notebook-cell:/c%3A/Users/48516/Desktop/inzynierka/aktualne/modele/uczenie_maszynowe/test.ipynb#W0sZmlsZQ%3D%3D?line=13'>14</a>\u001b[0m mse \u001b[39m=\u001b[39m mean_squared_error(y_test, y_pred)\n",
      "\u001b[1;31mNameError\u001b[0m: name 'X_train' is not defined"
     ]
    }
   ],
   "source": [
    "from sklearn.neural_network import MLPRegressor\n",
    "import numpy as np\n",
    "from sklearn.metrics import mean_squared_error, r2_score\n",
    "import matplotlib.pyplot as plt\n",
    "from sklearn.model_selection import train_test_split\n",
    "\n",
    "{'n_units1': 100, 'n_units2': 29, 'activation': 'identity', 'alpha': 0.043488008176195955}\n",
    "\n",
    "\n",
    "\n",
    "model = MLPRegressor(max_iter=10000,hidden_layer_sizes=[100,29],activation='identity',alpha= 0.043488008176195955,random_state=42)\n",
    "model.fit(X_train, y_train)\n",
    "y_pred = model.predict(X_test)\n",
    "mse = mean_squared_error(y_test, y_pred)\n",
    "r2 = r2_score(y_test, y_pred)\n",
    "\n",
    "print(f\"Średni błąd kwadratowy (MSE): {mse}\")\n",
    "percent_match = r2 * 100\n",
    "print(f\"Procentowa zgodność: {percent_match:.2f}%\")\n",
    "\n",
    "y_test = y_test.reset_index(drop=True)\n",
    "plt.plot([min(y_test), max(y_test)], [min(y_test), max(y_test)], 'r', label='y=x')\n",
    "plt.scatter(y_test, y_pred)\n",
    "for i in range(len(y_test)):\n",
    "    plt.plot([y_test[i], y_test[i]], [y_test[i], y_pred[i]], 'k--', lw=0.5)\n",
    "plt.xlabel(\"Prawdziwe PM2.5\")\n",
    "plt.ylabel(\"Przewidziane PM2.5\")\n",
    "plt.title(\"Wykres porównania rzeczywistych i przewidywanych wartości PM2.5\")\n",
    "plt.show()\n",
    "\n",
    "results = pd.DataFrame({'Rzeczywiste wartości (y_test)': y_test, 'Przewidywane wartości (y_pred)': y_pred})\n",
    "results['Różnica'] = results['Rzeczywiste wartości (y_test)'] - results['Przewidywane wartości (y_pred)']\n",
    "results"
   ]
  }
 ],
 "metadata": {
  "kernelspec": {
   "display_name": "Python 3",
   "language": "python",
   "name": "python3"
  },
  "language_info": {
   "codemirror_mode": {
    "name": "ipython",
    "version": 3
   },
   "file_extension": ".py",
   "mimetype": "text/x-python",
   "name": "python",
   "nbconvert_exporter": "python",
   "pygments_lexer": "ipython3",
   "version": "3.12.0"
  }
 },
 "nbformat": 4,
 "nbformat_minor": 2
}
