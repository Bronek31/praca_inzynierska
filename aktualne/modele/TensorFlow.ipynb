{
 "cells": [
  {
   "cell_type": "code",
   "execution_count": 1,
   "metadata": {},
   "outputs": [],
   "source": [
    "import matplotlib.pyplot as plt\n",
    "import numpy as np\n",
    "from sklearn.ensemble import RandomForestRegressor\n",
    "from sklearn.metrics import r2_score\n",
    "from sklearn.model_selection import train_test_split\n",
    "\n",
    "import pandas as pd\n",
    "import matplotlib.pyplot as plt\n",
    "all_data = pd.read_csv('all_data.csv', index_col=0)\n",
    "PM25 = pd.read_csv('PM25.csv', index_col=0)\n",
    "model_data = all_data = pd.concat([all_data, PM25], axis=1)\n",
    "model_data = model_data.rename(columns={model_data.columns[-1]: \"PM2.5\"})\n",
    "model_data = model_data.dropna(subset=[\"PM2.5\"])\n",
    "model_data\n",
    "\n",
    "X = model_data[[\"temperatura\", \"suma opadów\", \"wilgotność\", \"prędkość wiatru\", \"zachmurzenine\"]]\n",
    "y = model_data['PM2.5']\n",
    "X_train, X_test, y_train, y_test = train_test_split(X, y, test_size=0.002,random_state=42)"
   ]
  },
  {
   "cell_type": "code",
   "execution_count": 2,
   "metadata": {},
   "outputs": [
    {
     "ename": "ModuleNotFoundError",
     "evalue": "No module named 'tensorflow'",
     "output_type": "error",
     "traceback": [
      "\u001b[1;31m---------------------------------------------------------------------------\u001b[0m",
      "\u001b[1;31mModuleNotFoundError\u001b[0m                       Traceback (most recent call last)",
      "\u001b[1;32mc:\\Users\\48516\\Desktop\\inzynierka\\aktualne\\modele\\TensorFlow.ipynb Cell 2\u001b[0m line \u001b[0;36m2\n\u001b[0;32m      <a href='vscode-notebook-cell:/c%3A/Users/48516/Desktop/inzynierka/aktualne/modele/TensorFlow.ipynb#W0sZmlsZQ%3D%3D?line=0'>1</a>\u001b[0m \u001b[39mimport\u001b[39;00m \u001b[39moptuna\u001b[39;00m\n\u001b[1;32m----> <a href='vscode-notebook-cell:/c%3A/Users/48516/Desktop/inzynierka/aktualne/modele/TensorFlow.ipynb#W0sZmlsZQ%3D%3D?line=1'>2</a>\u001b[0m \u001b[39mimport\u001b[39;00m \u001b[39mtensorflow\u001b[39;00m \u001b[39mas\u001b[39;00m \u001b[39mtf\u001b[39;00m\n\u001b[0;32m      <a href='vscode-notebook-cell:/c%3A/Users/48516/Desktop/inzynierka/aktualne/modele/TensorFlow.ipynb#W0sZmlsZQ%3D%3D?line=2'>3</a>\u001b[0m \u001b[39mfrom\u001b[39;00m \u001b[39mtensorflow\u001b[39;00m \u001b[39mimport\u001b[39;00m keras\n\u001b[0;32m      <a href='vscode-notebook-cell:/c%3A/Users/48516/Desktop/inzynierka/aktualne/modele/TensorFlow.ipynb#W0sZmlsZQ%3D%3D?line=3'>4</a>\u001b[0m \u001b[39mfrom\u001b[39;00m \u001b[39msklearn\u001b[39;00m\u001b[39m.\u001b[39;00m\u001b[39mmetrics\u001b[39;00m \u001b[39mimport\u001b[39;00m r2_score\n",
      "\u001b[1;31mModuleNotFoundError\u001b[0m: No module named 'tensorflow'"
     ]
    }
   ],
   "source": [
    "import optuna\n",
    "import tensorflow as tf\n",
    "from tensorflow import keras\n",
    "from sklearn.metrics import r2_score\n",
    "from sklearn.model_selection import train_test_split\n",
    "\n",
    "def objective(trial):\n",
    "    X = model_data[[\"temperatura\", \"suma opadów\", \"wilgotność\", \"prędkość wiatru\", \"zachmurzenine\"]]\n",
    "    y = model_data[\"PM2.5\"]\n",
    "    X_train, X_test, y_train, y_test = train_test_split(X, y, test_size=0.002, random_state=42)\n",
    "\n",
    "    n_units1 = trial.suggest_int('n_units1', 2, 100)\n",
    "    n_units2 = trial.suggest_int('n_units2', 2, 100)\n",
    "    learning_rate = trial.suggest_float('learning_rate', 1e-5, 1.0)\n",
    "    batch_size = trial.suggest_categorical('batch_size', [32, 64, 128, 256])\n",
    "\n",
    "    model = keras.Sequential([\n",
    "        keras.layers.Dense(units=n_units1, activation='relu', input_dim=X_train.shape[1]),\n",
    "        keras.layers.Dense(units=n_units2, activation='relu'),\n",
    "        keras.layers.Dense(1)  # Wyjście\n",
    "    ])\n",
    "\n",
    "    optimizer = tf.keras.optimizers.Adam(learning_rate=learning_rate)\n",
    "    model.compile(loss='mean_squared_error', optimizer=optimizer)\n",
    "\n",
    "    model.fit(X_train, y_train, batch_size=batch_size, epochs=50, verbose=0)\n",
    "\n",
    "    y_pred = model.predict(X_test)\n",
    "    r2 = r2_score(y_test, y_pred)\n",
    "\n",
    "    return r2\n",
    "\n",
    "study = optuna.create_study(direction='maximize')\n",
    "\n",
    "improvement_threshold = 0.001\n",
    "stale_count = 0\n",
    "\n",
    "best_r2 = -float('inf')\n",
    "\n",
    "r2_values = []\n",
    "\n",
    "for _ in range(11000):\n",
    "    study.optimize(objective, n_trials=1)\n",
    "\n",
    "    if study.best_value > best_r2:\n",
    "        best_r2 = study.best_value\n",
    "        stale_count = 0\n",
    "    else:\n",
    "        stale_count += 1\n",
    "\n",
    "    r2_values.append(best_r2)\n",
    "\n",
    "    if stale_count >= 11000 or best_r2 >= 1.0:\n",
    "        break\n",
    "\n",
    "best_params = study.best_params\n",
    "best_r2 = study.best_value\n",
    "\n",
    "print(\"Najlepsze parametry:\", best_params)\n",
    "print(\"Najlepszy R^2 Score:\", best_r2)\n"
   ]
  }
 ],
 "metadata": {
  "kernelspec": {
   "display_name": "Python 3",
   "language": "python",
   "name": "python3"
  },
  "language_info": {
   "codemirror_mode": {
    "name": "ipython",
    "version": 3
   },
   "file_extension": ".py",
   "mimetype": "text/x-python",
   "name": "python",
   "nbconvert_exporter": "python",
   "pygments_lexer": "ipython3",
   "version": "3.12.0"
  }
 },
 "nbformat": 4,
 "nbformat_minor": 2
}
