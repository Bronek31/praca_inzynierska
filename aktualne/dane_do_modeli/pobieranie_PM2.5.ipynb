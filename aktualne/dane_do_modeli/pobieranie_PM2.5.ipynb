{
 "cells": [
  {
   "cell_type": "code",
   "execution_count": 19,
   "metadata": {},
   "outputs": [],
   "source": [
    "import pandas as pd\n",
    "\n",
    "sciezka_do_pliku = r'C:\\Users\\48516\\Desktop\\inzynierka\\aktualne\\zanieczyszczenie\\calosc.xlsx'\n",
    "nazwa_arkusza = \"Arkusz\"  \n",
    "PM25 = pd.read_excel(sciezka_do_pliku, sheet_name=nazwa_arkusza,header=None)\n",
    "PM25\n",
    "PM25.to_csv(\"PM25.csv\")\n"
   ]
  }
 ],
 "metadata": {
  "kernelspec": {
   "display_name": "Python 3",
   "language": "python",
   "name": "python3"
  },
  "language_info": {
   "codemirror_mode": {
    "name": "ipython",
    "version": 3
   },
   "file_extension": ".py",
   "mimetype": "text/x-python",
   "name": "python",
   "nbconvert_exporter": "python",
   "pygments_lexer": "ipython3",
   "version": "3.10.11"
  }
 },
 "nbformat": 4,
 "nbformat_minor": 2
}
